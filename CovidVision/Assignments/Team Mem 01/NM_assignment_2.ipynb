{
 "cells": [
  {
   "cell_type": "markdown",
   "id": "719384b6",
   "metadata": {},
   "source": [
    "NM ASSIGNMENT-2\n",
    "\n",
    "Name : MOHAMMED THABREZ G\n",
    "Roll No: 2020115051\n",
    "College: College of Engineering, Guindy\n",
    "Group - 1"
   ]
  },
  {
   "cell_type": "code",
   "execution_count": 51,
   "id": "5d0f2baf",
   "metadata": {},
   "outputs": [],
   "source": [
    "import pandas as pd\n",
    "import numpy as np\n",
    "import matplotlib.pyplot as plt\n",
    "import seaborn as sns\n",
    "from sklearn.model_selection import train_test_split\n",
    "from sklearn.preprocessing import StandardScaler\n",
    "from sklearn.preprocessing import MinMaxScaler\n",
    "import tensorflow as tf\n",
    "from tensorflow.keras import Sequential, Input\n",
    "from tensorflow.keras.layers import Dense\n",
    "from sklearn.metrics import r2_score"
   ]
  },
  {
   "cell_type": "code",
   "execution_count": 52,
   "id": "8a110c2c",
   "metadata": {},
   "outputs": [],
   "source": [
    "df = pd.read_csv(\"House Price India.csv\")\n",
    "df.head()\n",
    "ds = df"
   ]
  },
  {
   "cell_type": "code",
   "execution_count": 53,
   "id": "9f804bb0",
   "metadata": {},
   "outputs": [
    {
     "name": "stdout",
     "output_type": "stream",
     "text": [
      "<class 'pandas.core.frame.DataFrame'>\n",
      "RangeIndex: 14620 entries, 0 to 14619\n",
      "Data columns (total 23 columns):\n",
      " #   Column                                 Non-Null Count  Dtype  \n",
      "---  ------                                 --------------  -----  \n",
      " 0   id                                     14620 non-null  int64  \n",
      " 1   Date                                   14620 non-null  int64  \n",
      " 2   number of bedrooms                     14620 non-null  int64  \n",
      " 3   number of bathrooms                    14620 non-null  float64\n",
      " 4   living area                            14620 non-null  int64  \n",
      " 5   lot area                               14620 non-null  int64  \n",
      " 6   number of floors                       14620 non-null  float64\n",
      " 7   waterfront present                     14620 non-null  int64  \n",
      " 8   number of views                        14620 non-null  int64  \n",
      " 9   condition of the house                 14620 non-null  int64  \n",
      " 10  grade of the house                     14620 non-null  int64  \n",
      " 11  Area of the house(excluding basement)  14620 non-null  int64  \n",
      " 12  Area of the basement                   14620 non-null  int64  \n",
      " 13  Built Year                             14620 non-null  int64  \n",
      " 14  Renovation Year                        14620 non-null  int64  \n",
      " 15  Postal Code                            14620 non-null  int64  \n",
      " 16  Lattitude                              14620 non-null  float64\n",
      " 17  Longitude                              14620 non-null  float64\n",
      " 18  living_area_renov                      14620 non-null  int64  \n",
      " 19  lot_area_renov                         14620 non-null  int64  \n",
      " 20  Number of schools nearby               14620 non-null  int64  \n",
      " 21  Distance from the airport              14620 non-null  int64  \n",
      " 22  Price                                  14620 non-null  int64  \n",
      "dtypes: float64(4), int64(19)\n",
      "memory usage: 2.6 MB\n"
     ]
    }
   ],
   "source": [
    "df.info()"
   ]
  },
  {
   "cell_type": "code",
   "execution_count": 54,
   "id": "b5fd918d",
   "metadata": {},
   "outputs": [
    {
     "name": "stdout",
     "output_type": "stream",
     "text": [
      "Null values present: False\n"
     ]
    }
   ],
   "source": [
    "print('Null values present:',ds.isnull().any().any())"
   ]
  },
  {
   "cell_type": "markdown",
   "id": "eefd25f3",
   "metadata": {},
   "source": [
    "## 2. Preprocessing the Dataset (Feature Selection)"
   ]
  },
  {
   "cell_type": "code",
   "execution_count": 55,
   "id": "3eba2d3c",
   "metadata": {},
   "outputs": [
    {
     "data": {
      "text/html": [
       "<div>\n",
       "<style scoped>\n",
       "    .dataframe tbody tr th:only-of-type {\n",
       "        vertical-align: middle;\n",
       "    }\n",
       "\n",
       "    .dataframe tbody tr th {\n",
       "        vertical-align: top;\n",
       "    }\n",
       "\n",
       "    .dataframe thead th {\n",
       "        text-align: right;\n",
       "    }\n",
       "</style>\n",
       "<table border=\"1\" class=\"dataframe\">\n",
       "  <thead>\n",
       "    <tr style=\"text-align: right;\">\n",
       "      <th></th>\n",
       "      <th>number of bedrooms</th>\n",
       "      <th>number of bathrooms</th>\n",
       "      <th>living area</th>\n",
       "      <th>lot area</th>\n",
       "      <th>number of floors</th>\n",
       "      <th>waterfront present</th>\n",
       "      <th>number of views</th>\n",
       "      <th>condition of the house</th>\n",
       "      <th>grade of the house</th>\n",
       "      <th>Area of the house(excluding basement)</th>\n",
       "      <th>Area of the basement</th>\n",
       "      <th>Built Year</th>\n",
       "      <th>Lattitude</th>\n",
       "      <th>Longitude</th>\n",
       "      <th>Price</th>\n",
       "    </tr>\n",
       "  </thead>\n",
       "  <tbody>\n",
       "    <tr>\n",
       "      <th>0</th>\n",
       "      <td>5</td>\n",
       "      <td>2.50</td>\n",
       "      <td>3650</td>\n",
       "      <td>9050</td>\n",
       "      <td>2.0</td>\n",
       "      <td>0</td>\n",
       "      <td>4</td>\n",
       "      <td>5</td>\n",
       "      <td>10</td>\n",
       "      <td>3370</td>\n",
       "      <td>280</td>\n",
       "      <td>1921</td>\n",
       "      <td>52.8645</td>\n",
       "      <td>-114.557</td>\n",
       "      <td>2380000</td>\n",
       "    </tr>\n",
       "    <tr>\n",
       "      <th>1</th>\n",
       "      <td>4</td>\n",
       "      <td>2.50</td>\n",
       "      <td>2920</td>\n",
       "      <td>4000</td>\n",
       "      <td>1.5</td>\n",
       "      <td>0</td>\n",
       "      <td>0</td>\n",
       "      <td>5</td>\n",
       "      <td>8</td>\n",
       "      <td>1910</td>\n",
       "      <td>1010</td>\n",
       "      <td>1909</td>\n",
       "      <td>52.8878</td>\n",
       "      <td>-114.470</td>\n",
       "      <td>1400000</td>\n",
       "    </tr>\n",
       "    <tr>\n",
       "      <th>2</th>\n",
       "      <td>5</td>\n",
       "      <td>2.75</td>\n",
       "      <td>2910</td>\n",
       "      <td>9480</td>\n",
       "      <td>1.5</td>\n",
       "      <td>0</td>\n",
       "      <td>0</td>\n",
       "      <td>3</td>\n",
       "      <td>8</td>\n",
       "      <td>2910</td>\n",
       "      <td>0</td>\n",
       "      <td>1939</td>\n",
       "      <td>52.8852</td>\n",
       "      <td>-114.468</td>\n",
       "      <td>1200000</td>\n",
       "    </tr>\n",
       "    <tr>\n",
       "      <th>3</th>\n",
       "      <td>4</td>\n",
       "      <td>2.50</td>\n",
       "      <td>3310</td>\n",
       "      <td>42998</td>\n",
       "      <td>2.0</td>\n",
       "      <td>0</td>\n",
       "      <td>0</td>\n",
       "      <td>3</td>\n",
       "      <td>9</td>\n",
       "      <td>3310</td>\n",
       "      <td>0</td>\n",
       "      <td>2001</td>\n",
       "      <td>52.9532</td>\n",
       "      <td>-114.321</td>\n",
       "      <td>838000</td>\n",
       "    </tr>\n",
       "    <tr>\n",
       "      <th>4</th>\n",
       "      <td>3</td>\n",
       "      <td>2.00</td>\n",
       "      <td>2710</td>\n",
       "      <td>4500</td>\n",
       "      <td>1.5</td>\n",
       "      <td>0</td>\n",
       "      <td>0</td>\n",
       "      <td>4</td>\n",
       "      <td>8</td>\n",
       "      <td>1880</td>\n",
       "      <td>830</td>\n",
       "      <td>1929</td>\n",
       "      <td>52.9047</td>\n",
       "      <td>-114.485</td>\n",
       "      <td>805000</td>\n",
       "    </tr>\n",
       "  </tbody>\n",
       "</table>\n",
       "</div>"
      ],
      "text/plain": [
       "   number of bedrooms  number of bathrooms  living area  lot area  \\\n",
       "0                   5                 2.50         3650      9050   \n",
       "1                   4                 2.50         2920      4000   \n",
       "2                   5                 2.75         2910      9480   \n",
       "3                   4                 2.50         3310     42998   \n",
       "4                   3                 2.00         2710      4500   \n",
       "\n",
       "   number of floors  waterfront present  number of views  \\\n",
       "0               2.0                   0                4   \n",
       "1               1.5                   0                0   \n",
       "2               1.5                   0                0   \n",
       "3               2.0                   0                0   \n",
       "4               1.5                   0                0   \n",
       "\n",
       "   condition of the house  grade of the house  \\\n",
       "0                       5                  10   \n",
       "1                       5                   8   \n",
       "2                       3                   8   \n",
       "3                       3                   9   \n",
       "4                       4                   8   \n",
       "\n",
       "   Area of the house(excluding basement)  Area of the basement  Built Year  \\\n",
       "0                                   3370                   280        1921   \n",
       "1                                   1910                  1010        1909   \n",
       "2                                   2910                     0        1939   \n",
       "3                                   3310                     0        2001   \n",
       "4                                   1880                   830        1929   \n",
       "\n",
       "   Lattitude  Longitude    Price  \n",
       "0    52.8645   -114.557  2380000  \n",
       "1    52.8878   -114.470  1400000  \n",
       "2    52.8852   -114.468  1200000  \n",
       "3    52.9532   -114.321   838000  \n",
       "4    52.9047   -114.485   805000  "
      ]
     },
     "execution_count": 55,
     "metadata": {},
     "output_type": "execute_result"
    }
   ],
   "source": [
    "ds = ds.drop(['id','Date','Postal Code','living_area_renov','lot_area_renov','Number of schools nearby','Distance from the airport','Renovation Year'],axis='columns')\n",
    "ds.head(5)"
   ]
  },
  {
   "cell_type": "code",
   "execution_count": 56,
   "id": "6c802606",
   "metadata": {},
   "outputs": [
    {
     "data": {
      "text/plain": [
       "Index(['number of bedrooms', 'number of bathrooms', 'living area', 'lot area',\n",
       "       'number of floors', 'waterfront present', 'number of views',\n",
       "       'condition of the house', 'grade of the house',\n",
       "       'Area of the house(excluding basement)', 'Area of the basement',\n",
       "       'Built Year', 'Lattitude', 'Longitude', 'Price'],\n",
       "      dtype='object')"
      ]
     },
     "execution_count": 56,
     "metadata": {},
     "output_type": "execute_result"
    }
   ],
   "source": [
    " ds.columns"
   ]
  },
  {
   "cell_type": "code",
   "execution_count": 57,
   "id": "7b2fada4",
   "metadata": {},
   "outputs": [
    {
     "name": "stdout",
     "output_type": "stream",
     "text": [
      "New shape of dataset: (14620, 15)\n"
     ]
    }
   ],
   "source": [
    "print(\"New shape of dataset: \"+str(ds.shape))"
   ]
  },
  {
   "cell_type": "code",
   "execution_count": 58,
   "id": "2b68f7bc",
   "metadata": {},
   "outputs": [
    {
     "name": "stdout",
     "output_type": "stream",
     "text": [
      "<class 'pandas.core.frame.DataFrame'>\n",
      "RangeIndex: 14620 entries, 0 to 14619\n",
      "Data columns (total 15 columns):\n",
      " #   Column                                 Non-Null Count  Dtype  \n",
      "---  ------                                 --------------  -----  \n",
      " 0   number of bedrooms                     14620 non-null  int64  \n",
      " 1   number of bathrooms                    14620 non-null  float64\n",
      " 2   living area                            14620 non-null  int64  \n",
      " 3   lot area                               14620 non-null  int64  \n",
      " 4   number of floors                       14620 non-null  float64\n",
      " 5   waterfront present                     14620 non-null  int64  \n",
      " 6   number of views                        14620 non-null  int64  \n",
      " 7   condition of the house                 14620 non-null  int64  \n",
      " 8   grade of the house                     14620 non-null  int64  \n",
      " 9   Area of the house(excluding basement)  14620 non-null  int64  \n",
      " 10  Area of the basement                   14620 non-null  int64  \n",
      " 11  Built Year                             14620 non-null  int64  \n",
      " 12  Lattitude                              14620 non-null  float64\n",
      " 13  Longitude                              14620 non-null  float64\n",
      " 14  Price                                  14620 non-null  int64  \n",
      "dtypes: float64(4), int64(11)\n",
      "memory usage: 1.7 MB\n"
     ]
    }
   ],
   "source": [
    "ds.info()"
   ]
  },
  {
   "cell_type": "code",
   "execution_count": 59,
   "id": "3b67bccd",
   "metadata": {},
   "outputs": [
    {
     "name": "stdout",
     "output_type": "stream",
     "text": [
      "Training data: 11696\n",
      "Testing data: 2924\n"
     ]
    }
   ],
   "source": [
    "x = ds.drop('Price',axis='columns')\n",
    "y = ds['Price']\n",
    "x_train, x_test, y_train, y_test = train_test_split(x, y, test_size=0.20, random_state=0)\n",
    "\n",
    "print('Training data:',len(x_train))\n",
    "print('Testing data:',len(x_test))"
   ]
  },
  {
   "cell_type": "code",
   "execution_count": 60,
   "id": "a7391535",
   "metadata": {},
   "outputs": [],
   "source": [
    "scaler = MinMaxScaler()\n",
    "\n",
    "x_train = scaler.fit_transform(x_train)\n",
    "x_test = scaler.transform(x_test)"
   ]
  },
  {
   "cell_type": "markdown",
   "id": "910396a4",
   "metadata": {},
   "source": [
    "## 3.Building the ANN model"
   ]
  },
  {
   "cell_type": "code",
   "execution_count": 61,
   "id": "905c728c",
   "metadata": {},
   "outputs": [],
   "source": [
    "model = Sequential()\n",
    "\n",
    "model.add(Input(shape=(14,)))\n",
    "\n",
    "model.add(Dense(20,activation='relu'))\n",
    "model.add(Dense(30,activation='relu'))\n",
    "model.add(Dense(30,activation='relu'))\n",
    "model.add(Dense(20,activation='relu'))\n",
    "model.add(Dense(20,activation='relu'))\n",
    "model.add(Dense(30,activation='relu'))\n",
    "model.add(Dense(30,activation='relu'))\n",
    "model.add(Dense(20,activation='relu'))\n",
    "\n",
    "model.add(Dense(1,activation='linear'))\n",
    "\n",
    "model.compile(loss='mean_squared_error', optimizer='adam')"
   ]
  },
  {
   "cell_type": "code",
   "execution_count": 62,
   "id": "31a28d8e",
   "metadata": {
    "scrolled": false
   },
   "outputs": [
    {
     "name": "stdout",
     "output_type": "stream",
     "text": [
      "Model: \"sequential_5\"\n",
      "_________________________________________________________________\n",
      " Layer (type)                Output Shape              Param #   \n",
      "=================================================================\n",
      " dense_45 (Dense)            (None, 20)                300       \n",
      "                                                                 \n",
      " dense_46 (Dense)            (None, 30)                630       \n",
      "                                                                 \n",
      " dense_47 (Dense)            (None, 30)                930       \n",
      "                                                                 \n",
      " dense_48 (Dense)            (None, 20)                620       \n",
      "                                                                 \n",
      " dense_49 (Dense)            (None, 20)                420       \n",
      "                                                                 \n",
      " dense_50 (Dense)            (None, 30)                630       \n",
      "                                                                 \n",
      " dense_51 (Dense)            (None, 30)                930       \n",
      "                                                                 \n",
      " dense_52 (Dense)            (None, 20)                620       \n",
      "                                                                 \n",
      " dense_53 (Dense)            (None, 1)                 21        \n",
      "                                                                 \n",
      "=================================================================\n",
      "Total params: 5,101\n",
      "Trainable params: 5,101\n",
      "Non-trainable params: 0\n",
      "_________________________________________________________________\n"
     ]
    }
   ],
   "source": [
    "model.summary()"
   ]
  },
  {
   "cell_type": "code",
   "execution_count": 63,
   "id": "a1abe7ba",
   "metadata": {},
   "outputs": [
    {
     "name": "stdout",
     "output_type": "stream",
     "text": [
      "Epoch 1/100\n",
      "92/92 [==============================] - 1s 2ms/step - loss: 425181380608.0000 - val_loss: 424239136768.0000\n",
      "Epoch 2/100\n",
      "92/92 [==============================] - 0s 1ms/step - loss: 275292061696.0000 - val_loss: 101615591424.0000\n",
      "Epoch 3/100\n",
      "92/92 [==============================] - 0s 1ms/step - loss: 91984216064.0000 - val_loss: 93912580096.0000\n",
      "Epoch 4/100\n",
      "92/92 [==============================] - 0s 1ms/step - loss: 84266303488.0000 - val_loss: 85780152320.0000\n",
      "Epoch 5/100\n",
      "92/92 [==============================] - 0s 1ms/step - loss: 76089376768.0000 - val_loss: 76843638784.0000\n",
      "Epoch 6/100\n",
      "92/92 [==============================] - 0s 1ms/step - loss: 66726924288.0000 - val_loss: 66607538176.0000\n",
      "Epoch 7/100\n",
      "92/92 [==============================] - 0s 1ms/step - loss: 57129267200.0000 - val_loss: 57919705088.0000\n",
      "Epoch 8/100\n",
      "92/92 [==============================] - 0s 1ms/step - loss: 50790461440.0000 - val_loss: 53113126912.0000\n",
      "Epoch 9/100\n",
      "92/92 [==============================] - 0s 1ms/step - loss: 47380910080.0000 - val_loss: 50162520064.0000\n",
      "Epoch 10/100\n",
      "92/92 [==============================] - 0s 1ms/step - loss: 44614250496.0000 - val_loss: 47734104064.0000\n",
      "Epoch 11/100\n",
      "92/92 [==============================] - 0s 1ms/step - loss: 42738774016.0000 - val_loss: 45765799936.0000\n",
      "Epoch 12/100\n",
      "92/92 [==============================] - 0s 1ms/step - loss: 40600711168.0000 - val_loss: 43672109056.0000\n",
      "Epoch 13/100\n",
      "92/92 [==============================] - 0s 1ms/step - loss: 38812770304.0000 - val_loss: 41589428224.0000\n",
      "Epoch 14/100\n",
      "92/92 [==============================] - 0s 1ms/step - loss: 37441724416.0000 - val_loss: 40082984960.0000\n",
      "Epoch 15/100\n",
      "92/92 [==============================] - 0s 1ms/step - loss: 36151992320.0000 - val_loss: 39270342656.0000\n",
      "Epoch 16/100\n",
      "92/92 [==============================] - 0s 1ms/step - loss: 35391922176.0000 - val_loss: 38804619264.0000\n",
      "Epoch 17/100\n",
      "92/92 [==============================] - 0s 1ms/step - loss: 34939072512.0000 - val_loss: 37187190784.0000\n",
      "Epoch 18/100\n",
      "92/92 [==============================] - 0s 1ms/step - loss: 34190956544.0000 - val_loss: 37321392128.0000\n",
      "Epoch 19/100\n",
      "92/92 [==============================] - 0s 1ms/step - loss: 33832173568.0000 - val_loss: 35871780864.0000\n",
      "Epoch 20/100\n",
      "92/92 [==============================] - 0s 1ms/step - loss: 33426092032.0000 - val_loss: 35397570560.0000\n",
      "Epoch 21/100\n",
      "92/92 [==============================] - 0s 1ms/step - loss: 33001193472.0000 - val_loss: 36450201600.0000\n",
      "Epoch 22/100\n",
      "92/92 [==============================] - 0s 1ms/step - loss: 33074225152.0000 - val_loss: 34834296832.0000\n",
      "Epoch 23/100\n",
      "92/92 [==============================] - 0s 1ms/step - loss: 32824778752.0000 - val_loss: 34301368320.0000\n",
      "Epoch 24/100\n",
      "92/92 [==============================] - 0s 1ms/step - loss: 32364429312.0000 - val_loss: 33999364096.0000\n",
      "Epoch 25/100\n",
      "92/92 [==============================] - 0s 1ms/step - loss: 32289427456.0000 - val_loss: 33867065344.0000\n",
      "Epoch 26/100\n",
      "92/92 [==============================] - 0s 1ms/step - loss: 32117340160.0000 - val_loss: 33580369920.0000\n",
      "Epoch 27/100\n",
      "92/92 [==============================] - 0s 1ms/step - loss: 32247109632.0000 - val_loss: 33383647232.0000\n",
      "Epoch 28/100\n",
      "92/92 [==============================] - 0s 1ms/step - loss: 31984881664.0000 - val_loss: 34382065664.0000\n",
      "Epoch 29/100\n",
      "92/92 [==============================] - 0s 1ms/step - loss: 31598082048.0000 - val_loss: 32863500288.0000\n",
      "Epoch 30/100\n",
      "92/92 [==============================] - 0s 1ms/step - loss: 31524753408.0000 - val_loss: 33073678336.0000\n",
      "Epoch 31/100\n",
      "92/92 [==============================] - 0s 1ms/step - loss: 31530080256.0000 - val_loss: 32644661248.0000\n",
      "Epoch 32/100\n",
      "92/92 [==============================] - 0s 1ms/step - loss: 31240595456.0000 - val_loss: 32829747200.0000\n",
      "Epoch 33/100\n",
      "92/92 [==============================] - 0s 1ms/step - loss: 31307919360.0000 - val_loss: 32489771008.0000\n",
      "Epoch 34/100\n",
      "92/92 [==============================] - 0s 1ms/step - loss: 31120703488.0000 - val_loss: 32467406848.0000\n",
      "Epoch 35/100\n",
      "92/92 [==============================] - 0s 1ms/step - loss: 31059034112.0000 - val_loss: 32118892544.0000\n",
      "Epoch 36/100\n",
      "92/92 [==============================] - 0s 1ms/step - loss: 31082020864.0000 - val_loss: 32466618368.0000\n",
      "Epoch 37/100\n",
      "92/92 [==============================] - 0s 1ms/step - loss: 31085799424.0000 - val_loss: 32235972608.0000\n",
      "Epoch 38/100\n",
      "92/92 [==============================] - 0s 1ms/step - loss: 30876454912.0000 - val_loss: 31681515520.0000\n",
      "Epoch 39/100\n",
      "92/92 [==============================] - 0s 1ms/step - loss: 30731767808.0000 - val_loss: 31680722944.0000\n",
      "Epoch 40/100\n",
      "92/92 [==============================] - 0s 1ms/step - loss: 30993774592.0000 - val_loss: 31890358272.0000\n",
      "Epoch 41/100\n",
      "92/92 [==============================] - 0s 1ms/step - loss: 30585681920.0000 - val_loss: 31540715520.0000\n",
      "Epoch 42/100\n",
      "92/92 [==============================] - 0s 1ms/step - loss: 30678843392.0000 - val_loss: 31420370944.0000\n",
      "Epoch 43/100\n",
      "92/92 [==============================] - 0s 1ms/step - loss: 30748841984.0000 - val_loss: 31556202496.0000\n",
      "Epoch 44/100\n",
      "92/92 [==============================] - 0s 1ms/step - loss: 30468956160.0000 - val_loss: 31671320576.0000\n",
      "Epoch 45/100\n",
      "92/92 [==============================] - 0s 1ms/step - loss: 30738700288.0000 - val_loss: 32037896192.0000\n",
      "Epoch 46/100\n",
      "92/92 [==============================] - 0s 1ms/step - loss: 30445293568.0000 - val_loss: 31500353536.0000\n",
      "Epoch 47/100\n",
      "92/92 [==============================] - 0s 1ms/step - loss: 30574012416.0000 - val_loss: 30920214528.0000\n",
      "Epoch 48/100\n",
      "92/92 [==============================] - 0s 1ms/step - loss: 30267056128.0000 - val_loss: 30835798016.0000\n",
      "Epoch 49/100\n",
      "92/92 [==============================] - 0s 1ms/step - loss: 30291091456.0000 - val_loss: 30863851520.0000\n",
      "Epoch 50/100\n",
      "92/92 [==============================] - 0s 1ms/step - loss: 30160494592.0000 - val_loss: 30745477120.0000\n",
      "Epoch 51/100\n",
      "92/92 [==============================] - 0s 1ms/step - loss: 30372536320.0000 - val_loss: 30651402240.0000\n",
      "Epoch 52/100\n",
      "92/92 [==============================] - 0s 1ms/step - loss: 30095042560.0000 - val_loss: 30560550912.0000\n",
      "Epoch 53/100\n",
      "92/92 [==============================] - 0s 1ms/step - loss: 30025373696.0000 - val_loss: 30551988224.0000\n",
      "Epoch 54/100\n",
      "92/92 [==============================] - 0s 1ms/step - loss: 30106726400.0000 - val_loss: 30575955968.0000\n",
      "Epoch 55/100\n",
      "92/92 [==============================] - 0s 1ms/step - loss: 30280669184.0000 - val_loss: 30590324736.0000\n",
      "Epoch 56/100\n",
      "92/92 [==============================] - 0s 1ms/step - loss: 29950681088.0000 - val_loss: 30363392000.0000\n",
      "Epoch 57/100\n",
      "92/92 [==============================] - 0s 1ms/step - loss: 29910462464.0000 - val_loss: 30477592576.0000\n",
      "Epoch 58/100\n",
      "92/92 [==============================] - 0s 1ms/step - loss: 29830141952.0000 - val_loss: 30401419264.0000\n",
      "Epoch 59/100\n",
      "92/92 [==============================] - 0s 1ms/step - loss: 29788483584.0000 - val_loss: 30292496384.0000\n",
      "Epoch 60/100\n",
      "92/92 [==============================] - 0s 1ms/step - loss: 29858428928.0000 - val_loss: 30965014528.0000\n",
      "Epoch 61/100\n",
      "92/92 [==============================] - 0s 1ms/step - loss: 29674579968.0000 - val_loss: 30374010880.0000\n",
      "Epoch 62/100\n",
      "92/92 [==============================] - 0s 995us/step - loss: 29583777792.0000 - val_loss: 30623508480.0000\n",
      "Epoch 63/100\n",
      "92/92 [==============================] - 0s 1ms/step - loss: 29871101952.0000 - val_loss: 30426869760.0000\n",
      "Epoch 64/100\n",
      "92/92 [==============================] - 0s 1ms/step - loss: 29487577088.0000 - val_loss: 29920260096.0000\n",
      "Epoch 65/100\n",
      "92/92 [==============================] - 0s 1ms/step - loss: 29477216256.0000 - val_loss: 30275553280.0000\n",
      "Epoch 66/100\n",
      "92/92 [==============================] - 0s 1ms/step - loss: 29887787008.0000 - val_loss: 30150608896.0000\n",
      "Epoch 67/100\n",
      "92/92 [==============================] - 0s 1ms/step - loss: 29484447744.0000 - val_loss: 30237130752.0000\n",
      "Epoch 68/100\n",
      "92/92 [==============================] - 0s 1ms/step - loss: 29293426688.0000 - val_loss: 29851342848.0000\n",
      "Epoch 69/100\n"
     ]
    },
    {
     "name": "stdout",
     "output_type": "stream",
     "text": [
      "92/92 [==============================] - 0s 1ms/step - loss: 29290336256.0000 - val_loss: 30549215232.0000\n",
      "Epoch 70/100\n",
      "92/92 [==============================] - 0s 1ms/step - loss: 29461477376.0000 - val_loss: 30001219584.0000\n",
      "Epoch 71/100\n",
      "92/92 [==============================] - 0s 1ms/step - loss: 29637892096.0000 - val_loss: 30266585088.0000\n",
      "Epoch 72/100\n",
      "92/92 [==============================] - 0s 1ms/step - loss: 29400569856.0000 - val_loss: 29819648000.0000\n",
      "Epoch 73/100\n",
      "92/92 [==============================] - 0s 1ms/step - loss: 29378338816.0000 - val_loss: 29914398720.0000\n",
      "Epoch 74/100\n",
      "92/92 [==============================] - 0s 1ms/step - loss: 28975351808.0000 - val_loss: 30258165760.0000\n",
      "Epoch 75/100\n",
      "92/92 [==============================] - 0s 1ms/step - loss: 29325168640.0000 - val_loss: 29615122432.0000\n",
      "Epoch 76/100\n",
      "92/92 [==============================] - 0s 1ms/step - loss: 29337100288.0000 - val_loss: 29501087744.0000\n",
      "Epoch 77/100\n",
      "92/92 [==============================] - 0s 1ms/step - loss: 29168695296.0000 - val_loss: 29382952960.0000\n",
      "Epoch 78/100\n",
      "92/92 [==============================] - 0s 1ms/step - loss: 29202292736.0000 - val_loss: 29449365504.0000\n",
      "Epoch 79/100\n",
      "92/92 [==============================] - 0s 1ms/step - loss: 29118019584.0000 - val_loss: 29599182848.0000\n",
      "Epoch 80/100\n",
      "92/92 [==============================] - 0s 1ms/step - loss: 29058838528.0000 - val_loss: 29523398656.0000\n",
      "Epoch 81/100\n",
      "92/92 [==============================] - 0s 1ms/step - loss: 28969457664.0000 - val_loss: 29605967872.0000\n",
      "Epoch 82/100\n",
      "92/92 [==============================] - 0s 1ms/step - loss: 29095022592.0000 - val_loss: 29389643776.0000\n",
      "Epoch 83/100\n",
      "92/92 [==============================] - 0s 1ms/step - loss: 28664811520.0000 - val_loss: 30051942400.0000\n",
      "Epoch 84/100\n",
      "92/92 [==============================] - 0s 2ms/step - loss: 28910219264.0000 - val_loss: 29345241088.0000\n",
      "Epoch 85/100\n",
      "92/92 [==============================] - 0s 1ms/step - loss: 28953311232.0000 - val_loss: 29453914112.0000\n",
      "Epoch 86/100\n",
      "92/92 [==============================] - 0s 2ms/step - loss: 29102903296.0000 - val_loss: 29453443072.0000\n",
      "Epoch 87/100\n",
      "92/92 [==============================] - 0s 1ms/step - loss: 28941463552.0000 - val_loss: 29571067904.0000\n",
      "Epoch 88/100\n",
      "92/92 [==============================] - 0s 1ms/step - loss: 28972521472.0000 - val_loss: 29259407360.0000\n",
      "Epoch 89/100\n",
      "92/92 [==============================] - 0s 1ms/step - loss: 28635617280.0000 - val_loss: 29351243776.0000\n",
      "Epoch 90/100\n",
      "92/92 [==============================] - 0s 1ms/step - loss: 28811732992.0000 - val_loss: 29487953920.0000\n",
      "Epoch 91/100\n",
      "92/92 [==============================] - 0s 1ms/step - loss: 28640733184.0000 - val_loss: 29589102592.0000\n",
      "Epoch 92/100\n",
      "92/92 [==============================] - 0s 1ms/step - loss: 28696950784.0000 - val_loss: 29313269760.0000\n",
      "Epoch 93/100\n",
      "92/92 [==============================] - 0s 3ms/step - loss: 28661202944.0000 - val_loss: 29083037696.0000\n",
      "Epoch 94/100\n",
      "92/92 [==============================] - 0s 1ms/step - loss: 28592271360.0000 - val_loss: 29109635072.0000\n",
      "Epoch 95/100\n",
      "92/92 [==============================] - 0s 1ms/step - loss: 28740968448.0000 - val_loss: 29578602496.0000\n",
      "Epoch 96/100\n",
      "92/92 [==============================] - 0s 2ms/step - loss: 28678694912.0000 - val_loss: 29038946304.0000\n",
      "Epoch 97/100\n",
      "92/92 [==============================] - 0s 1ms/step - loss: 28514340864.0000 - val_loss: 29217579008.0000\n",
      "Epoch 98/100\n",
      "92/92 [==============================] - 0s 1ms/step - loss: 28570419200.0000 - val_loss: 29097625600.0000\n",
      "Epoch 99/100\n",
      "92/92 [==============================] - 0s 1ms/step - loss: 28460220416.0000 - val_loss: 29375389696.0000\n",
      "Epoch 100/100\n",
      "92/92 [==============================] - 0s 2ms/step - loss: 28564527104.0000 - val_loss: 29296857088.0000\n"
     ]
    }
   ],
   "source": [
    "history=model.fit(x=x_train,y=y_train.values,validation_data=(x_test,y_test.values),batch_size=128,epochs=100)"
   ]
  },
  {
   "cell_type": "markdown",
   "id": "072a32c8",
   "metadata": {},
   "source": [
    "## 4.Evaluating the model"
   ]
  },
  {
   "cell_type": "code",
   "execution_count": 64,
   "id": "8f3c49e0",
   "metadata": {},
   "outputs": [
    {
     "name": "stdout",
     "output_type": "stream",
     "text": [
      "92/92 [==============================] - 0s 597us/step\n",
      "R2 score: 0.7889253716863875\n"
     ]
    }
   ],
   "source": [
    "y_predicted = model.predict(x_test)\n",
    "print('R2 score:',r2_score(y_test,y_predicted))"
   ]
  },
  {
   "cell_type": "code",
   "execution_count": 65,
   "id": "592f9081",
   "metadata": {},
   "outputs": [
    {
     "data": {
      "image/png": "[encoded data removed]",
      "text/plain": [
       "<Figure size 432x288 with 1 Axes>"
      ]
     },
     "metadata": {
      "needs_background": "light"
     },
     "output_type": "display_data"
    }
   ],
   "source": [
    "y_test_values = y_test.values\n",
    "y_predicted_values = y_predicted.reshape(len(y_predicted))\n",
    "\n",
    "plt.scatter(y_test_values,y_predicted_values)\n",
    "plt.plot(y_test_values,y_test_values,'r')\n",
    "plt.title('Model Prediction')\n",
    "plt.xlabel('Y test')\n",
    "plt.ylabel('Model Prediction')\n",
    "plt.show()"
   ]
  },
  {
   "cell_type": "code",
   "execution_count": 66,
   "id": "61f14416",
   "metadata": {},
   "outputs": [
    {
     "name": "stdout",
     "output_type": "stream",
     "text": [
      "1/1 [==============================] - 0s 25ms/step\n",
      "Predicted Price:  1145148.1\n",
      "Actual Price:  1160000\n"
     ]
    }
   ],
   "source": [
    "pred=model.predict(x_test[1:2])\n",
    "print(\"Predicted Price: \",pred[0][0])\n",
    "print(\"Actual Price: \",y_test_values[1])\n"
   ]
  }
 ],
 "metadata": {
  "kernelspec": {
   "display_name": "Python 3 (ipykernel)",
   "language": "python",
   "name": "python3"
  },
  "language_info": {
   "codemirror_mode": {
    "name": "ipython",
    "version": 3
   },
   "file_extension": ".py",
   "mimetype": "text/x-python",
   "name": "python",
   "nbconvert_exporter": "python",
   "pygments_lexer": "ipython3",
   "version": "3.9.12"
  }
 },
 "nbformat": 4,
 "nbformat_minor": 5
}
