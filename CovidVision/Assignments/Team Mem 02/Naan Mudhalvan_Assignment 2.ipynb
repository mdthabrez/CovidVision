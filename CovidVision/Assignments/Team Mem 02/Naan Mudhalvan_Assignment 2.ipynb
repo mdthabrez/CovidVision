{
 "cells": [
  {
   "cell_type": "markdown",
   "metadata": {
    "id": "NlsBnMJ1TPLe"
   },
   "source": [
    "**Sriram R - 2020115092 - CEG, Anna University**\n"
   ]
  },
  {
   "cell_type": "markdown",
   "metadata": {
    "id": "iHNa5LocTWz1"
   },
   "source": [
    "**1. Importing Dataset and Libraries**"
   ]
  },
  {
   "cell_type": "code",
   "execution_count": 53,
   "metadata": {
    "colab": {
     "base_uri": "https://localhost:8080/",
     "height": 351
    },
    "id": "aKnnU4ZaTTu1",
    "outputId": "365e48cd-b2bf-4b08-8a72-24d4db671815"
   },
   "outputs": [
    {
     "data": {
      "text/html": [
       "\n",
       "  <div id=\"df-013a7105-ba36-4512-8d89-8478459f1c6f\">\n",
       "    <div class=\"colab-df-container\">\n",
       "      <div>\n",
       "<style scoped>\n",
       "    .dataframe tbody tr th:only-of-type {\n",
       "        vertical-align: middle;\n",
       "    }\n",
       "\n",
       "    .dataframe tbody tr th {\n",
       "        vertical-align: top;\n",
       "    }\n",
       "\n",
       "    .dataframe thead th {\n",
       "        text-align: right;\n",
       "    }\n",
       "</style>\n",
       "<table border=\"1\" class=\"dataframe\">\n",
       "  <thead>\n",
       "    <tr style=\"text-align: right;\">\n",
       "      <th></th>\n",
       "      <th>id</th>\n",
       "      <th>Date</th>\n",
       "      <th>number of bedrooms</th>\n",
       "      <th>number of bathrooms</th>\n",
       "      <th>living area</th>\n",
       "      <th>lot area</th>\n",
       "      <th>number of floors</th>\n",
       "      <th>waterfront present</th>\n",
       "      <th>number of views</th>\n",
       "      <th>condition of the house</th>\n",
       "      <th>...</th>\n",
       "      <th>Built Year</th>\n",
       "      <th>Renovation Year</th>\n",
       "      <th>Postal Code</th>\n",
       "      <th>Lattitude</th>\n",
       "      <th>Longitude</th>\n",
       "      <th>living_area_renov</th>\n",
       "      <th>lot_area_renov</th>\n",
       "      <th>Number of schools nearby</th>\n",
       "      <th>Distance from the airport</th>\n",
       "      <th>Price</th>\n",
       "    </tr>\n",
       "  </thead>\n",
       "  <tbody>\n",
       "    <tr>\n",
       "      <th>0</th>\n",
       "      <td>6762810145</td>\n",
       "      <td>42491</td>\n",
       "      <td>5</td>\n",
       "      <td>2.50</td>\n",
       "      <td>3650</td>\n",
       "      <td>9050</td>\n",
       "      <td>2.0</td>\n",
       "      <td>0</td>\n",
       "      <td>4</td>\n",
       "      <td>5</td>\n",
       "      <td>...</td>\n",
       "      <td>1921</td>\n",
       "      <td>0</td>\n",
       "      <td>122003</td>\n",
       "      <td>52.8645</td>\n",
       "      <td>-114.557</td>\n",
       "      <td>2880</td>\n",
       "      <td>5400</td>\n",
       "      <td>2</td>\n",
       "      <td>58</td>\n",
       "      <td>2380000</td>\n",
       "    </tr>\n",
       "    <tr>\n",
       "      <th>1</th>\n",
       "      <td>6762810635</td>\n",
       "      <td>42491</td>\n",
       "      <td>4</td>\n",
       "      <td>2.50</td>\n",
       "      <td>2920</td>\n",
       "      <td>4000</td>\n",
       "      <td>1.5</td>\n",
       "      <td>0</td>\n",
       "      <td>0</td>\n",
       "      <td>5</td>\n",
       "      <td>...</td>\n",
       "      <td>1909</td>\n",
       "      <td>0</td>\n",
       "      <td>122004</td>\n",
       "      <td>52.8878</td>\n",
       "      <td>-114.470</td>\n",
       "      <td>2470</td>\n",
       "      <td>4000</td>\n",
       "      <td>2</td>\n",
       "      <td>51</td>\n",
       "      <td>1400000</td>\n",
       "    </tr>\n",
       "    <tr>\n",
       "      <th>2</th>\n",
       "      <td>6762810998</td>\n",
       "      <td>42491</td>\n",
       "      <td>5</td>\n",
       "      <td>2.75</td>\n",
       "      <td>2910</td>\n",
       "      <td>9480</td>\n",
       "      <td>1.5</td>\n",
       "      <td>0</td>\n",
       "      <td>0</td>\n",
       "      <td>3</td>\n",
       "      <td>...</td>\n",
       "      <td>1939</td>\n",
       "      <td>0</td>\n",
       "      <td>122004</td>\n",
       "      <td>52.8852</td>\n",
       "      <td>-114.468</td>\n",
       "      <td>2940</td>\n",
       "      <td>6600</td>\n",
       "      <td>1</td>\n",
       "      <td>53</td>\n",
       "      <td>1200000</td>\n",
       "    </tr>\n",
       "    <tr>\n",
       "      <th>3</th>\n",
       "      <td>6762812605</td>\n",
       "      <td>42491</td>\n",
       "      <td>4</td>\n",
       "      <td>2.50</td>\n",
       "      <td>3310</td>\n",
       "      <td>42998</td>\n",
       "      <td>2.0</td>\n",
       "      <td>0</td>\n",
       "      <td>0</td>\n",
       "      <td>3</td>\n",
       "      <td>...</td>\n",
       "      <td>2001</td>\n",
       "      <td>0</td>\n",
       "      <td>122005</td>\n",
       "      <td>52.9532</td>\n",
       "      <td>-114.321</td>\n",
       "      <td>3350</td>\n",
       "      <td>42847</td>\n",
       "      <td>3</td>\n",
       "      <td>76</td>\n",
       "      <td>838000</td>\n",
       "    </tr>\n",
       "    <tr>\n",
       "      <th>4</th>\n",
       "      <td>6762812919</td>\n",
       "      <td>42491</td>\n",
       "      <td>3</td>\n",
       "      <td>2.00</td>\n",
       "      <td>2710</td>\n",
       "      <td>4500</td>\n",
       "      <td>1.5</td>\n",
       "      <td>0</td>\n",
       "      <td>0</td>\n",
       "      <td>4</td>\n",
       "      <td>...</td>\n",
       "      <td>1929</td>\n",
       "      <td>0</td>\n",
       "      <td>122006</td>\n",
       "      <td>52.9047</td>\n",
       "      <td>-114.485</td>\n",
       "      <td>2060</td>\n",
       "      <td>4500</td>\n",
       "      <td>1</td>\n",
       "      <td>51</td>\n",
       "      <td>805000</td>\n",
       "    </tr>\n",
       "  </tbody>\n",
       "</table>\n",
       "<p>5 rows × 23 columns</p>\n",
       "</div>\n",
       "      <button class=\"colab-df-convert\" onclick=\"convertToInteractive('df-013a7105-ba36-4512-8d89-8478459f1c6f')\"\n",
       "              title=\"Convert this dataframe to an interactive table.\"\n",
       "              style=\"display:none;\">\n",
       "        \n",
       "  <svg xmlns=\"http://www.w3.org/2000/svg\" height=\"24px\"viewBox=\"0 0 24 24\"\n",
       "       width=\"24px\">\n",
       "    <path d=\"M0 0h24v24H0V0z\" fill=\"none\"/>\n",
       "    <path d=\"M18.56 5.44l.94 2.06.94-2.06 2.06-.94-2.06-.94-.94-2.06-.94 2.06-2.06.94zm-11 1L8.5 8.5l.94-2.06 2.06-.94-2.06-.94L8.5 2.5l-.94 2.06-2.06.94zm10 10l.94 2.06.94-2.06 2.06-.94-2.06-.94-.94-2.06-.94 2.06-2.06.94z\"/><path d=\"M17.41 7.96l-1.37-1.37c-.4-.4-.92-.59-1.43-.59-.52 0-1.04.2-1.43.59L10.3 9.45l-7.72 7.72c-.78.78-.78 2.05 0 2.83L4 21.41c.39.39.9.59 1.41.59.51 0 1.02-.2 1.41-.59l7.78-7.78 2.81-2.81c.8-.78.8-2.07 0-2.86zM5.41 20L4 18.59l7.72-7.72 1.47 1.35L5.41 20z\"/>\n",
       "  </svg>\n",
       "      </button>\n",
       "      \n",
       "  <style>\n",
       "    .colab-df-container {\n",
       "      display:flex;\n",
       "      flex-wrap:wrap;\n",
       "      gap: 12px;\n",
       "    }\n",
       "\n",
       "    .colab-df-convert {\n",
       "      background-color: #E8F0FE;\n",
       "      border: none;\n",
       "      border-radius: 50%;\n",
       "      cursor: pointer;\n",
       "      display: none;\n",
       "      fill: #1967D2;\n",
       "      height: 32px;\n",
       "      padding: 0 0 0 0;\n",
       "      width: 32px;\n",
       "    }\n",
       "\n",
       "    .colab-df-convert:hover {\n",
       "      background-color: #E2EBFA;\n",
       "      box-shadow: 0px 1px 2px rgba(60, 64, 67, 0.3), 0px 1px 3px 1px rgba(60, 64, 67, 0.15);\n",
       "      fill: #174EA6;\n",
       "    }\n",
       "\n",
       "    [theme=dark] .colab-df-convert {\n",
       "      background-color: #3B4455;\n",
       "      fill: #D2E3FC;\n",
       "    }\n",
       "\n",
       "    [theme=dark] .colab-df-convert:hover {\n",
       "      background-color: #434B5C;\n",
       "      box-shadow: 0px 1px 3px 1px rgba(0, 0, 0, 0.15);\n",
       "      filter: drop-shadow(0px 1px 2px rgba(0, 0, 0, 0.3));\n",
       "      fill: #FFFFFF;\n",
       "    }\n",
       "  </style>\n",
       "\n",
       "      <script>\n",
       "        const buttonEl =\n",
       "          document.querySelector('#df-013a7105-ba36-4512-8d89-8478459f1c6f button.colab-df-convert');\n",
       "        buttonEl.style.display =\n",
       "          google.colab.kernel.accessAllowed ? 'block' : 'none';\n",
       "\n",
       "        async function convertToInteractive(key) {\n",
       "          const element = document.querySelector('#df-013a7105-ba36-4512-8d89-8478459f1c6f');\n",
       "          const dataTable =\n",
       "            await google.colab.kernel.invokeFunction('convertToInteractive',\n",
       "                                                     [key], {});\n",
       "          if (!dataTable) return;\n",
       "\n",
       "          const docLinkHtml = 'Like what you see? Visit the ' +\n",
       "            '<a target=\"_blank\" href=https://colab.research.google.com/notebooks/data_table.ipynb>data table notebook</a>'\n",
       "            + ' to learn more about interactive tables.';\n",
       "          element.innerHTML = '';\n",
       "          dataTable['output_type'] = 'display_data';\n",
       "          await google.colab.output.renderOutput(dataTable, element);\n",
       "          const docLink = document.createElement('div');\n",
       "          docLink.innerHTML = docLinkHtml;\n",
       "          element.appendChild(docLink);\n",
       "        }\n",
       "      </script>\n",
       "    </div>\n",
       "  </div>\n",
       "  "
      ],
      "text/plain": [
       "           id   Date  number of bedrooms  number of bathrooms  living area  \\\n",
       "0  6762810145  42491                   5                 2.50         3650   \n",
       "1  6762810635  42491                   4                 2.50         2920   \n",
       "2  6762810998  42491                   5                 2.75         2910   \n",
       "3  6762812605  42491                   4                 2.50         3310   \n",
       "4  6762812919  42491                   3                 2.00         2710   \n",
       "\n",
       "   lot area  number of floors  waterfront present  number of views  \\\n",
       "0      9050               2.0                   0                4   \n",
       "1      4000               1.5                   0                0   \n",
       "2      9480               1.5                   0                0   \n",
       "3     42998               2.0                   0                0   \n",
       "4      4500               1.5                   0                0   \n",
       "\n",
       "   condition of the house  ...  Built Year  Renovation Year  Postal Code  \\\n",
       "0                       5  ...        1921                0       122003   \n",
       "1                       5  ...        1909                0       122004   \n",
       "2                       3  ...        1939                0       122004   \n",
       "3                       3  ...        2001                0       122005   \n",
       "4                       4  ...        1929                0       122006   \n",
       "\n",
       "   Lattitude  Longitude  living_area_renov  lot_area_renov  \\\n",
       "0    52.8645   -114.557               2880            5400   \n",
       "1    52.8878   -114.470               2470            4000   \n",
       "2    52.8852   -114.468               2940            6600   \n",
       "3    52.9532   -114.321               3350           42847   \n",
       "4    52.9047   -114.485               2060            4500   \n",
       "\n",
       "   Number of schools nearby  Distance from the airport    Price  \n",
       "0                         2                         58  2380000  \n",
       "1                         2                         51  1400000  \n",
       "2                         1                         53  1200000  \n",
       "3                         3                         76   838000  \n",
       "4                         1                         51   805000  \n",
       "\n",
       "[5 rows x 23 columns]"
      ]
     },
     "execution_count": 53,
     "metadata": {},
     "output_type": "execute_result"
    }
   ],
   "source": [
    "import pandas as pd\n",
    "import numpy as np\n",
    "import matplotlib.pyplot as plt\n",
    "import seaborn as sns\n",
    "from sklearn.model_selection import train_test_split\n",
    "from sklearn.preprocessing import StandardScaler\n",
    "from sklearn.preprocessing import MinMaxScaler\n",
    "import tensorflow as tf\n",
    "from tensorflow.keras import Sequential, Input\n",
    "from tensorflow.keras.layers import Dense\n",
    "from sklearn.metrics import r2_score\n",
    "\n",
    "ds = pd.read_csv(\"/content/House Price India.csv\")\n",
    "ds.head(5)"
   ]
  },
  {
   "cell_type": "code",
   "execution_count": 54,
   "metadata": {
    "colab": {
     "base_uri": "https://localhost:8080/"
    },
    "id": "n9iDq_eRUy-5",
    "outputId": "ec830129-da64-42bf-c886-a4db43fd4f45"
   },
   "outputs": [
    {
     "data": {
      "text/plain": [
       "(14620, 23)"
      ]
     },
     "execution_count": 54,
     "metadata": {},
     "output_type": "execute_result"
    }
   ],
   "source": [
    "ds.shape"
   ]
  },
  {
   "cell_type": "code",
   "execution_count": 55,
   "metadata": {
    "colab": {
     "base_uri": "https://localhost:8080/"
    },
    "id": "wpsiXuFUT3Gr",
    "outputId": "aa9d5fa0-b646-48ed-df25-082841699dea"
   },
   "outputs": [
    {
     "data": {
      "text/plain": [
       "Index(['id', 'Date', 'number of bedrooms', 'number of bathrooms',\n",
       "       'living area', 'lot area', 'number of floors', 'waterfront present',\n",
       "       'number of views', 'condition of the house', 'grade of the house',\n",
       "       'Area of the house(excluding basement)', 'Area of the basement',\n",
       "       'Built Year', 'Renovation Year', 'Postal Code', 'Lattitude',\n",
       "       'Longitude', 'living_area_renov', 'lot_area_renov',\n",
       "       'Number of schools nearby', 'Distance from the airport', 'Price'],\n",
       "      dtype='object')"
      ]
     },
     "execution_count": 55,
     "metadata": {},
     "output_type": "execute_result"
    }
   ],
   "source": [
    "ds.columns"
   ]
  },
  {
   "cell_type": "code",
   "execution_count": 56,
   "metadata": {
    "colab": {
     "base_uri": "https://localhost:8080/"
    },
    "id": "orZOluxiT_4h",
    "outputId": "6aa9ef19-6cee-4eb1-a30b-714cdc400d81"
   },
   "outputs": [
    {
     "name": "stdout",
     "output_type": "stream",
     "text": [
      "Null values present: False\n"
     ]
    }
   ],
   "source": [
    "print('Null values present:',ds.isnull().any().any())"
   ]
  },
  {
   "cell_type": "code",
   "execution_count": 57,
   "metadata": {
    "colab": {
     "base_uri": "https://localhost:8080/"
    },
    "id": "Sqh0LypjUEFv",
    "outputId": "4ec06fbb-94ac-497d-a5a0-3f8347ac7ece"
   },
   "outputs": [
    {
     "name": "stdout",
     "output_type": "stream",
     "text": [
      "<class 'pandas.core.frame.DataFrame'>\n",
      "RangeIndex: 14620 entries, 0 to 14619\n",
      "Data columns (total 23 columns):\n",
      " #   Column                                 Non-Null Count  Dtype  \n",
      "---  ------                                 --------------  -----  \n",
      " 0   id                                     14620 non-null  int64  \n",
      " 1   Date                                   14620 non-null  int64  \n",
      " 2   number of bedrooms                     14620 non-null  int64  \n",
      " 3   number of bathrooms                    14620 non-null  float64\n",
      " 4   living area                            14620 non-null  int64  \n",
      " 5   lot area                               14620 non-null  int64  \n",
      " 6   number of floors                       14620 non-null  float64\n",
      " 7   waterfront present                     14620 non-null  int64  \n",
      " 8   number of views                        14620 non-null  int64  \n",
      " 9   condition of the house                 14620 non-null  int64  \n",
      " 10  grade of the house                     14620 non-null  int64  \n",
      " 11  Area of the house(excluding basement)  14620 non-null  int64  \n",
      " 12  Area of the basement                   14620 non-null  int64  \n",
      " 13  Built Year                             14620 non-null  int64  \n",
      " 14  Renovation Year                        14620 non-null  int64  \n",
      " 15  Postal Code                            14620 non-null  int64  \n",
      " 16  Lattitude                              14620 non-null  float64\n",
      " 17  Longitude                              14620 non-null  float64\n",
      " 18  living_area_renov                      14620 non-null  int64  \n",
      " 19  lot_area_renov                         14620 non-null  int64  \n",
      " 20  Number of schools nearby               14620 non-null  int64  \n",
      " 21  Distance from the airport              14620 non-null  int64  \n",
      " 22  Price                                  14620 non-null  int64  \n",
      "dtypes: float64(4), int64(19)\n",
      "memory usage: 2.6 MB\n"
     ]
    }
   ],
   "source": [
    "ds.info()"
   ]
  },
  {
   "cell_type": "markdown",
   "metadata": {
    "id": "Q-UJjg61UZdc"
   },
   "source": [
    "**2. Preprocessing the Dataset (Feature Selection)**"
   ]
  },
  {
   "cell_type": "code",
   "execution_count": 58,
   "metadata": {
    "colab": {
     "base_uri": "https://localhost:8080/",
     "height": 322
    },
    "id": "ykxlR0Y8UY7O",
    "outputId": "fc8ca95f-9d71-43d3-a25e-e6595719cbb6"
   },
   "outputs": [
    {
     "data": {
      "text/html": [
       "\n",
       "  <div id=\"df-ff146f47-5e3b-4777-baea-6ffade18db47\">\n",
       "    <div class=\"colab-df-container\">\n",
       "      <div>\n",
       "<style scoped>\n",
       "    .dataframe tbody tr th:only-of-type {\n",
       "        vertical-align: middle;\n",
       "    }\n",
       "\n",
       "    .dataframe tbody tr th {\n",
       "        vertical-align: top;\n",
       "    }\n",
       "\n",
       "    .dataframe thead th {\n",
       "        text-align: right;\n",
       "    }\n",
       "</style>\n",
       "<table border=\"1\" class=\"dataframe\">\n",
       "  <thead>\n",
       "    <tr style=\"text-align: right;\">\n",
       "      <th></th>\n",
       "      <th>number of bedrooms</th>\n",
       "      <th>number of bathrooms</th>\n",
       "      <th>living area</th>\n",
       "      <th>lot area</th>\n",
       "      <th>number of floors</th>\n",
       "      <th>waterfront present</th>\n",
       "      <th>number of views</th>\n",
       "      <th>condition of the house</th>\n",
       "      <th>grade of the house</th>\n",
       "      <th>Area of the house(excluding basement)</th>\n",
       "      <th>Area of the basement</th>\n",
       "      <th>Built Year</th>\n",
       "      <th>Lattitude</th>\n",
       "      <th>Longitude</th>\n",
       "      <th>Price</th>\n",
       "    </tr>\n",
       "  </thead>\n",
       "  <tbody>\n",
       "    <tr>\n",
       "      <th>0</th>\n",
       "      <td>5</td>\n",
       "      <td>2.50</td>\n",
       "      <td>3650</td>\n",
       "      <td>9050</td>\n",
       "      <td>2.0</td>\n",
       "      <td>0</td>\n",
       "      <td>4</td>\n",
       "      <td>5</td>\n",
       "      <td>10</td>\n",
       "      <td>3370</td>\n",
       "      <td>280</td>\n",
       "      <td>1921</td>\n",
       "      <td>52.8645</td>\n",
       "      <td>-114.557</td>\n",
       "      <td>2380000</td>\n",
       "    </tr>\n",
       "    <tr>\n",
       "      <th>1</th>\n",
       "      <td>4</td>\n",
       "      <td>2.50</td>\n",
       "      <td>2920</td>\n",
       "      <td>4000</td>\n",
       "      <td>1.5</td>\n",
       "      <td>0</td>\n",
       "      <td>0</td>\n",
       "      <td>5</td>\n",
       "      <td>8</td>\n",
       "      <td>1910</td>\n",
       "      <td>1010</td>\n",
       "      <td>1909</td>\n",
       "      <td>52.8878</td>\n",
       "      <td>-114.470</td>\n",
       "      <td>1400000</td>\n",
       "    </tr>\n",
       "    <tr>\n",
       "      <th>2</th>\n",
       "      <td>5</td>\n",
       "      <td>2.75</td>\n",
       "      <td>2910</td>\n",
       "      <td>9480</td>\n",
       "      <td>1.5</td>\n",
       "      <td>0</td>\n",
       "      <td>0</td>\n",
       "      <td>3</td>\n",
       "      <td>8</td>\n",
       "      <td>2910</td>\n",
       "      <td>0</td>\n",
       "      <td>1939</td>\n",
       "      <td>52.8852</td>\n",
       "      <td>-114.468</td>\n",
       "      <td>1200000</td>\n",
       "    </tr>\n",
       "    <tr>\n",
       "      <th>3</th>\n",
       "      <td>4</td>\n",
       "      <td>2.50</td>\n",
       "      <td>3310</td>\n",
       "      <td>42998</td>\n",
       "      <td>2.0</td>\n",
       "      <td>0</td>\n",
       "      <td>0</td>\n",
       "      <td>3</td>\n",
       "      <td>9</td>\n",
       "      <td>3310</td>\n",
       "      <td>0</td>\n",
       "      <td>2001</td>\n",
       "      <td>52.9532</td>\n",
       "      <td>-114.321</td>\n",
       "      <td>838000</td>\n",
       "    </tr>\n",
       "    <tr>\n",
       "      <th>4</th>\n",
       "      <td>3</td>\n",
       "      <td>2.00</td>\n",
       "      <td>2710</td>\n",
       "      <td>4500</td>\n",
       "      <td>1.5</td>\n",
       "      <td>0</td>\n",
       "      <td>0</td>\n",
       "      <td>4</td>\n",
       "      <td>8</td>\n",
       "      <td>1880</td>\n",
       "      <td>830</td>\n",
       "      <td>1929</td>\n",
       "      <td>52.9047</td>\n",
       "      <td>-114.485</td>\n",
       "      <td>805000</td>\n",
       "    </tr>\n",
       "  </tbody>\n",
       "</table>\n",
       "</div>\n",
       "      <button class=\"colab-df-convert\" onclick=\"convertToInteractive('df-ff146f47-5e3b-4777-baea-6ffade18db47')\"\n",
       "              title=\"Convert this dataframe to an interactive table.\"\n",
       "              style=\"display:none;\">\n",
       "        \n",
       "  <svg xmlns=\"http://www.w3.org/2000/svg\" height=\"24px\"viewBox=\"0 0 24 24\"\n",
       "       width=\"24px\">\n",
       "    <path d=\"M0 0h24v24H0V0z\" fill=\"none\"/>\n",
       "    <path d=\"M18.56 5.44l.94 2.06.94-2.06 2.06-.94-2.06-.94-.94-2.06-.94 2.06-2.06.94zm-11 1L8.5 8.5l.94-2.06 2.06-.94-2.06-.94L8.5 2.5l-.94 2.06-2.06.94zm10 10l.94 2.06.94-2.06 2.06-.94-2.06-.94-.94-2.06-.94 2.06-2.06.94z\"/><path d=\"M17.41 7.96l-1.37-1.37c-.4-.4-.92-.59-1.43-.59-.52 0-1.04.2-1.43.59L10.3 9.45l-7.72 7.72c-.78.78-.78 2.05 0 2.83L4 21.41c.39.39.9.59 1.41.59.51 0 1.02-.2 1.41-.59l7.78-7.78 2.81-2.81c.8-.78.8-2.07 0-2.86zM5.41 20L4 18.59l7.72-7.72 1.47 1.35L5.41 20z\"/>\n",
       "  </svg>\n",
       "      </button>\n",
       "      \n",
       "  <style>\n",
       "    .colab-df-container {\n",
       "      display:flex;\n",
       "      flex-wrap:wrap;\n",
       "      gap: 12px;\n",
       "    }\n",
       "\n",
       "    .colab-df-convert {\n",
       "      background-color: #E8F0FE;\n",
       "      border: none;\n",
       "      border-radius: 50%;\n",
       "      cursor: pointer;\n",
       "      display: none;\n",
       "      fill: #1967D2;\n",
       "      height: 32px;\n",
       "      padding: 0 0 0 0;\n",
       "      width: 32px;\n",
       "    }\n",
       "\n",
       "    .colab-df-convert:hover {\n",
       "      background-color: #E2EBFA;\n",
       "      box-shadow: 0px 1px 2px rgba(60, 64, 67, 0.3), 0px 1px 3px 1px rgba(60, 64, 67, 0.15);\n",
       "      fill: #174EA6;\n",
       "    }\n",
       "\n",
       "    [theme=dark] .colab-df-convert {\n",
       "      background-color: #3B4455;\n",
       "      fill: #D2E3FC;\n",
       "    }\n",
       "\n",
       "    [theme=dark] .colab-df-convert:hover {\n",
       "      background-color: #434B5C;\n",
       "      box-shadow: 0px 1px 3px 1px rgba(0, 0, 0, 0.15);\n",
       "      filter: drop-shadow(0px 1px 2px rgba(0, 0, 0, 0.3));\n",
       "      fill: #FFFFFF;\n",
       "    }\n",
       "  </style>\n",
       "\n",
       "      <script>\n",
       "        const buttonEl =\n",
       "          document.querySelector('#df-ff146f47-5e3b-4777-baea-6ffade18db47 button.colab-df-convert');\n",
       "        buttonEl.style.display =\n",
       "          google.colab.kernel.accessAllowed ? 'block' : 'none';\n",
       "\n",
       "        async function convertToInteractive(key) {\n",
       "          const element = document.querySelector('#df-ff146f47-5e3b-4777-baea-6ffade18db47');\n",
       "          const dataTable =\n",
       "            await google.colab.kernel.invokeFunction('convertToInteractive',\n",
       "                                                     [key], {});\n",
       "          if (!dataTable) return;\n",
       "\n",
       "          const docLinkHtml = 'Like what you see? Visit the ' +\n",
       "            '<a target=\"_blank\" href=https://colab.research.google.com/notebooks/data_table.ipynb>data table notebook</a>'\n",
       "            + ' to learn more about interactive tables.';\n",
       "          element.innerHTML = '';\n",
       "          dataTable['output_type'] = 'display_data';\n",
       "          await google.colab.output.renderOutput(dataTable, element);\n",
       "          const docLink = document.createElement('div');\n",
       "          docLink.innerHTML = docLinkHtml;\n",
       "          element.appendChild(docLink);\n",
       "        }\n",
       "      </script>\n",
       "    </div>\n",
       "  </div>\n",
       "  "
      ],
      "text/plain": [
       "   number of bedrooms  number of bathrooms  living area  lot area  \\\n",
       "0                   5                 2.50         3650      9050   \n",
       "1                   4                 2.50         2920      4000   \n",
       "2                   5                 2.75         2910      9480   \n",
       "3                   4                 2.50         3310     42998   \n",
       "4                   3                 2.00         2710      4500   \n",
       "\n",
       "   number of floors  waterfront present  number of views  \\\n",
       "0               2.0                   0                4   \n",
       "1               1.5                   0                0   \n",
       "2               1.5                   0                0   \n",
       "3               2.0                   0                0   \n",
       "4               1.5                   0                0   \n",
       "\n",
       "   condition of the house  grade of the house  \\\n",
       "0                       5                  10   \n",
       "1                       5                   8   \n",
       "2                       3                   8   \n",
       "3                       3                   9   \n",
       "4                       4                   8   \n",
       "\n",
       "   Area of the house(excluding basement)  Area of the basement  Built Year  \\\n",
       "0                                   3370                   280        1921   \n",
       "1                                   1910                  1010        1909   \n",
       "2                                   2910                     0        1939   \n",
       "3                                   3310                     0        2001   \n",
       "4                                   1880                   830        1929   \n",
       "\n",
       "   Lattitude  Longitude    Price  \n",
       "0    52.8645   -114.557  2380000  \n",
       "1    52.8878   -114.470  1400000  \n",
       "2    52.8852   -114.468  1200000  \n",
       "3    52.9532   -114.321   838000  \n",
       "4    52.9047   -114.485   805000  "
      ]
     },
     "execution_count": 58,
     "metadata": {},
     "output_type": "execute_result"
    }
   ],
   "source": [
    "ds = ds.drop(['id','Date','Postal Code','living_area_renov','lot_area_renov','Number of schools nearby','Distance from the airport','Renovation Year'],axis='columns')\n",
    "ds.head(5)"
   ]
  },
  {
   "cell_type": "code",
   "execution_count": 59,
   "metadata": {
    "colab": {
     "base_uri": "https://localhost:8080/"
    },
    "id": "WOnRrvMnU2j8",
    "outputId": "115dd92e-af4f-448e-c85c-b42e642c548e"
   },
   "outputs": [
    {
     "data": {
      "text/plain": [
       "Index(['number of bedrooms', 'number of bathrooms', 'living area', 'lot area',\n",
       "       'number of floors', 'waterfront present', 'number of views',\n",
       "       'condition of the house', 'grade of the house',\n",
       "       'Area of the house(excluding basement)', 'Area of the basement',\n",
       "       'Built Year', 'Lattitude', 'Longitude', 'Price'],\n",
       "      dtype='object')"
      ]
     },
     "execution_count": 59,
     "metadata": {},
     "output_type": "execute_result"
    }
   ],
   "source": [
    "ds.columns"
   ]
  },
  {
   "cell_type": "code",
   "execution_count": 60,
   "metadata": {
    "colab": {
     "base_uri": "https://localhost:8080/"
    },
    "id": "zZqMebUyU4uy",
    "outputId": "6ecd9abe-1785-4615-aaea-3996947adef0"
   },
   "outputs": [
    {
     "name": "stdout",
     "output_type": "stream",
     "text": [
      "New shape of dataset: (14620, 15)\n"
     ]
    }
   ],
   "source": [
    "print(\"New shape of dataset: \"+str(ds.shape))"
   ]
  },
  {
   "cell_type": "code",
   "execution_count": 61,
   "metadata": {
    "colab": {
     "base_uri": "https://localhost:8080/"
    },
    "id": "bkHRzZe0VNOT",
    "outputId": "afa7f045-0c6e-4a10-eeb8-47f54d294621"
   },
   "outputs": [
    {
     "name": "stdout",
     "output_type": "stream",
     "text": [
      "<class 'pandas.core.frame.DataFrame'>\n",
      "RangeIndex: 14620 entries, 0 to 14619\n",
      "Data columns (total 15 columns):\n",
      " #   Column                                 Non-Null Count  Dtype  \n",
      "---  ------                                 --------------  -----  \n",
      " 0   number of bedrooms                     14620 non-null  int64  \n",
      " 1   number of bathrooms                    14620 non-null  float64\n",
      " 2   living area                            14620 non-null  int64  \n",
      " 3   lot area                               14620 non-null  int64  \n",
      " 4   number of floors                       14620 non-null  float64\n",
      " 5   waterfront present                     14620 non-null  int64  \n",
      " 6   number of views                        14620 non-null  int64  \n",
      " 7   condition of the house                 14620 non-null  int64  \n",
      " 8   grade of the house                     14620 non-null  int64  \n",
      " 9   Area of the house(excluding basement)  14620 non-null  int64  \n",
      " 10  Area of the basement                   14620 non-null  int64  \n",
      " 11  Built Year                             14620 non-null  int64  \n",
      " 12  Lattitude                              14620 non-null  float64\n",
      " 13  Longitude                              14620 non-null  float64\n",
      " 14  Price                                  14620 non-null  int64  \n",
      "dtypes: float64(4), int64(11)\n",
      "memory usage: 1.7 MB\n"
     ]
    }
   ],
   "source": [
    "ds.info()"
   ]
  },
  {
   "cell_type": "code",
   "execution_count": 62,
   "metadata": {
    "colab": {
     "base_uri": "https://localhost:8080/"
    },
    "id": "GqXrM6sxVRTm",
    "outputId": "2fabc89c-ad19-41e1-cae9-4927c477b93d"
   },
   "outputs": [
    {
     "name": "stdout",
     "output_type": "stream",
     "text": [
      "Training data: 11696\n",
      "Testing data: 2924\n"
     ]
    }
   ],
   "source": [
    "x = ds.drop('Price',axis='columns')\n",
    "y = ds['Price']\n",
    "x_train, x_test, y_train, y_test = train_test_split(x, y, test_size=0.20, random_state=0)\n",
    "\n",
    "print('Training data:',len(x_train))\n",
    "print('Testing data:',len(x_test))"
   ]
  },
  {
   "cell_type": "code",
   "execution_count": 63,
   "metadata": {
    "id": "F4Mqhy52Vg4x"
   },
   "outputs": [],
   "source": [
    "scaler = MinMaxScaler()\n",
    "\n",
    "x_train = scaler.fit_transform(x_train)\n",
    "x_test = scaler.transform(x_test)"
   ]
  },
  {
   "cell_type": "markdown",
   "metadata": {
    "id": "oxdA8zKQV7vj"
   },
   "source": [
    "**3.Building the ANN model**"
   ]
  },
  {
   "cell_type": "code",
   "execution_count": 64,
   "metadata": {
    "id": "kdHRgXHsV6bv"
   },
   "outputs": [],
   "source": [
    "model = Sequential()\n",
    "\n",
    "model.add(Input(shape=(14,)))\n",
    "\n",
    "model.add(Dense(20,activation='relu'))\n",
    "model.add(Dense(30,activation='relu'))\n",
    "model.add(Dense(30,activation='relu'))\n",
    "model.add(Dense(20,activation='relu'))\n",
    "model.add(Dense(20,activation='relu'))\n",
    "model.add(Dense(30,activation='relu'))\n",
    "model.add(Dense(30,activation='relu'))\n",
    "model.add(Dense(20,activation='relu'))\n",
    "\n",
    "model.add(Dense(1,activation='linear'))\n",
    "\n",
    "model.compile(loss='mean_squared_error', optimizer='adam')\n"
   ]
  },
  {
   "cell_type": "code",
   "execution_count": 65,
   "metadata": {
    "colab": {
     "base_uri": "https://localhost:8080/"
    },
    "id": "fpluviwRWIEb",
    "outputId": "7b9a75d1-1c13-4853-c370-a2fef45cd1f4"
   },
   "outputs": [
    {
     "name": "stdout",
     "output_type": "stream",
     "text": [
      "Model: \"sequential_3\"\n",
      "_________________________________________________________________\n",
      " Layer (type)                Output Shape              Param #   \n",
      "=================================================================\n",
      " dense_27 (Dense)            (None, 20)                300       \n",
      "                                                                 \n",
      " dense_28 (Dense)            (None, 30)                630       \n",
      "                                                                 \n",
      " dense_29 (Dense)            (None, 30)                930       \n",
      "                                                                 \n",
      " dense_30 (Dense)            (None, 20)                620       \n",
      "                                                                 \n",
      " dense_31 (Dense)            (None, 20)                420       \n",
      "                                                                 \n",
      " dense_32 (Dense)            (None, 30)                630       \n",
      "                                                                 \n",
      " dense_33 (Dense)            (None, 30)                930       \n",
      "                                                                 \n",
      " dense_34 (Dense)            (None, 20)                620       \n",
      "                                                                 \n",
      " dense_35 (Dense)            (None, 1)                 21        \n",
      "                                                                 \n",
      "=================================================================\n",
      "Total params: 5,101\n",
      "Trainable params: 5,101\n",
      "Non-trainable params: 0\n",
      "_________________________________________________________________\n"
     ]
    }
   ],
   "source": [
    "model.summary()"
   ]
  },
  {
   "cell_type": "code",
   "execution_count": 66,
   "metadata": {
    "colab": {
     "base_uri": "https://localhost:8080/"
    },
    "id": "eKcMqXYxWMe3",
    "outputId": "5a6312fa-d461-4102-f75a-2f41ee4030fb"
   },
   "outputs": [
    {
     "name": "stdout",
     "output_type": "stream",
     "text": [
      "Epoch 1/100\n",
      "92/92 [==============================] - 3s 6ms/step - loss: 425227059200.0000 - val_loss: 424708407296.0000\n",
      "Epoch 2/100\n",
      "92/92 [==============================] - 0s 5ms/step - loss: 285160210432.0000 - val_loss: 104129503232.0000\n",
      "Epoch 3/100\n",
      "92/92 [==============================] - 0s 5ms/step - loss: 93734313984.0000 - val_loss: 95924879360.0000\n",
      "Epoch 4/100\n",
      "92/92 [==============================] - 0s 5ms/step - loss: 85542543360.0000 - val_loss: 88289574912.0000\n",
      "Epoch 5/100\n",
      "92/92 [==============================] - 0s 5ms/step - loss: 77207511040.0000 - val_loss: 78541791232.0000\n",
      "Epoch 6/100\n",
      "92/92 [==============================] - 0s 5ms/step - loss: 67868520448.0000 - val_loss: 68196564992.0000\n",
      "Epoch 7/100\n",
      "92/92 [==============================] - 0s 5ms/step - loss: 59352440832.0000 - val_loss: 60231741440.0000\n",
      "Epoch 8/100\n",
      "92/92 [==============================] - 0s 5ms/step - loss: 53012533248.0000 - val_loss: 55183458304.0000\n",
      "Epoch 9/100\n",
      "92/92 [==============================] - 1s 6ms/step - loss: 48872632320.0000 - val_loss: 51240308736.0000\n",
      "Epoch 10/100\n",
      "92/92 [==============================] - 1s 7ms/step - loss: 45545336832.0000 - val_loss: 48578891776.0000\n",
      "Epoch 11/100\n",
      "92/92 [==============================] - 1s 8ms/step - loss: 42991566848.0000 - val_loss: 46485667840.0000\n",
      "Epoch 12/100\n",
      "92/92 [==============================] - 1s 7ms/step - loss: 41012785152.0000 - val_loss: 43834445824.0000\n",
      "Epoch 13/100\n",
      "92/92 [==============================] - 0s 5ms/step - loss: 39383080960.0000 - val_loss: 41736634368.0000\n",
      "Epoch 14/100\n",
      "92/92 [==============================] - 0s 5ms/step - loss: 37575340032.0000 - val_loss: 40208834560.0000\n",
      "Epoch 15/100\n",
      "92/92 [==============================] - 0s 5ms/step - loss: 36365688832.0000 - val_loss: 38678642688.0000\n",
      "Epoch 16/100\n",
      "92/92 [==============================] - 0s 5ms/step - loss: 35507154944.0000 - val_loss: 37548179456.0000\n",
      "Epoch 17/100\n",
      "92/92 [==============================] - 0s 5ms/step - loss: 34641715200.0000 - val_loss: 36886372352.0000\n",
      "Epoch 18/100\n",
      "92/92 [==============================] - 0s 5ms/step - loss: 34073266176.0000 - val_loss: 36140773376.0000\n",
      "Epoch 19/100\n",
      "92/92 [==============================] - 0s 5ms/step - loss: 33753225216.0000 - val_loss: 35508531200.0000\n",
      "Epoch 20/100\n",
      "92/92 [==============================] - 0s 5ms/step - loss: 33374877696.0000 - val_loss: 35532550144.0000\n",
      "Epoch 21/100\n",
      "92/92 [==============================] - 0s 5ms/step - loss: 32998400000.0000 - val_loss: 34980864000.0000\n",
      "Epoch 22/100\n",
      "92/92 [==============================] - 0s 5ms/step - loss: 32694999040.0000 - val_loss: 34140895232.0000\n",
      "Epoch 23/100\n",
      "92/92 [==============================] - 0s 5ms/step - loss: 32515022848.0000 - val_loss: 33983852544.0000\n",
      "Epoch 24/100\n",
      "92/92 [==============================] - 0s 5ms/step - loss: 32252073984.0000 - val_loss: 33387194368.0000\n",
      "Epoch 25/100\n",
      "92/92 [==============================] - 0s 5ms/step - loss: 31900108800.0000 - val_loss: 33177231360.0000\n",
      "Epoch 26/100\n",
      "92/92 [==============================] - 0s 5ms/step - loss: 31703105536.0000 - val_loss: 33164689408.0000\n",
      "Epoch 27/100\n",
      "92/92 [==============================] - 0s 5ms/step - loss: 31549366272.0000 - val_loss: 32784713728.0000\n",
      "Epoch 28/100\n",
      "92/92 [==============================] - 0s 5ms/step - loss: 31648892928.0000 - val_loss: 32534220800.0000\n",
      "Epoch 29/100\n",
      "92/92 [==============================] - 0s 5ms/step - loss: 31556968448.0000 - val_loss: 32093855744.0000\n",
      "Epoch 30/100\n",
      "92/92 [==============================] - 0s 5ms/step - loss: 31594467328.0000 - val_loss: 31963199488.0000\n",
      "Epoch 31/100\n",
      "92/92 [==============================] - 0s 5ms/step - loss: 31160578048.0000 - val_loss: 32218994688.0000\n",
      "Epoch 32/100\n",
      "92/92 [==============================] - 0s 5ms/step - loss: 31061020672.0000 - val_loss: 32011481088.0000\n",
      "Epoch 33/100\n",
      "92/92 [==============================] - 0s 5ms/step - loss: 31108206592.0000 - val_loss: 31459835904.0000\n",
      "Epoch 34/100\n",
      "92/92 [==============================] - 0s 5ms/step - loss: 31092488192.0000 - val_loss: 31269031936.0000\n",
      "Epoch 35/100\n",
      "92/92 [==============================] - 1s 7ms/step - loss: 31029917696.0000 - val_loss: 31488524288.0000\n",
      "Epoch 36/100\n",
      "92/92 [==============================] - 1s 7ms/step - loss: 30792075264.0000 - val_loss: 31808120832.0000\n",
      "Epoch 37/100\n",
      "92/92 [==============================] - 1s 8ms/step - loss: 30722131968.0000 - val_loss: 31245426688.0000\n",
      "Epoch 38/100\n",
      "92/92 [==============================] - 1s 5ms/step - loss: 30684698624.0000 - val_loss: 31220740096.0000\n",
      "Epoch 39/100\n",
      "92/92 [==============================] - 0s 5ms/step - loss: 30419390464.0000 - val_loss: 31078727680.0000\n",
      "Epoch 40/100\n",
      "92/92 [==============================] - 0s 5ms/step - loss: 30217977856.0000 - val_loss: 30927495168.0000\n",
      "Epoch 41/100\n",
      "92/92 [==============================] - 0s 5ms/step - loss: 30261424128.0000 - val_loss: 31139520512.0000\n",
      "Epoch 42/100\n",
      "92/92 [==============================] - 1s 7ms/step - loss: 30321981440.0000 - val_loss: 31239581696.0000\n",
      "Epoch 43/100\n",
      "92/92 [==============================] - 1s 7ms/step - loss: 30465318912.0000 - val_loss: 31679819776.0000\n",
      "Epoch 44/100\n",
      "92/92 [==============================] - 1s 9ms/step - loss: 30048751616.0000 - val_loss: 30678837248.0000\n",
      "Epoch 45/100\n",
      "92/92 [==============================] - 0s 5ms/step - loss: 30192926720.0000 - val_loss: 30524764160.0000\n",
      "Epoch 46/100\n",
      "92/92 [==============================] - 0s 5ms/step - loss: 30137825280.0000 - val_loss: 30458679296.0000\n",
      "Epoch 47/100\n",
      "92/92 [==============================] - 0s 5ms/step - loss: 29996058624.0000 - val_loss: 30300495872.0000\n",
      "Epoch 48/100\n",
      "92/92 [==============================] - 0s 5ms/step - loss: 30117036032.0000 - val_loss: 30436984832.0000\n",
      "Epoch 49/100\n",
      "92/92 [==============================] - 0s 5ms/step - loss: 29825359872.0000 - val_loss: 30532722688.0000\n",
      "Epoch 50/100\n",
      "92/92 [==============================] - 0s 5ms/step - loss: 29833095168.0000 - val_loss: 30433507328.0000\n",
      "Epoch 51/100\n",
      "92/92 [==============================] - 0s 5ms/step - loss: 29704384512.0000 - val_loss: 30221379584.0000\n",
      "Epoch 52/100\n",
      "92/92 [==============================] - 1s 9ms/step - loss: 30059630592.0000 - val_loss: 30227001344.0000\n",
      "Epoch 53/100\n",
      "92/92 [==============================] - 1s 10ms/step - loss: 29776216064.0000 - val_loss: 30123347968.0000\n",
      "Epoch 54/100\n",
      "92/92 [==============================] - 0s 5ms/step - loss: 29608658944.0000 - val_loss: 30065438720.0000\n",
      "Epoch 55/100\n",
      "92/92 [==============================] - 1s 9ms/step - loss: 29535801344.0000 - val_loss: 30463565824.0000\n",
      "Epoch 56/100\n",
      "92/92 [==============================] - 1s 11ms/step - loss: 29517557760.0000 - val_loss: 29998442496.0000\n",
      "Epoch 57/100\n",
      "92/92 [==============================] - 1s 9ms/step - loss: 29703438336.0000 - val_loss: 31135721472.0000\n",
      "Epoch 58/100\n",
      "92/92 [==============================] - 1s 11ms/step - loss: 29617696768.0000 - val_loss: 30088728576.0000\n",
      "Epoch 59/100\n",
      "92/92 [==============================] - 1s 6ms/step - loss: 29455474688.0000 - val_loss: 30272329728.0000\n",
      "Epoch 60/100\n",
      "92/92 [==============================] - 0s 5ms/step - loss: 29460713472.0000 - val_loss: 29881718784.0000\n",
      "Epoch 61/100\n",
      "92/92 [==============================] - 0s 5ms/step - loss: 29261332480.0000 - val_loss: 31241629696.0000\n",
      "Epoch 62/100\n",
      "92/92 [==============================] - 0s 5ms/step - loss: 29420861440.0000 - val_loss: 29696604160.0000\n",
      "Epoch 63/100\n",
      "92/92 [==============================] - 0s 5ms/step - loss: 29169967104.0000 - val_loss: 29804314624.0000\n",
      "Epoch 64/100\n",
      "92/92 [==============================] - 0s 5ms/step - loss: 29107267584.0000 - val_loss: 30662045696.0000\n",
      "Epoch 65/100\n",
      "92/92 [==============================] - 0s 5ms/step - loss: 29219956736.0000 - val_loss: 29738387456.0000\n",
      "Epoch 66/100\n",
      "92/92 [==============================] - 0s 5ms/step - loss: 29229197312.0000 - val_loss: 29865291776.0000\n",
      "Epoch 67/100\n",
      "92/92 [==============================] - 0s 5ms/step - loss: 29240756224.0000 - val_loss: 29829791744.0000\n",
      "Epoch 68/100\n",
      "92/92 [==============================] - 0s 5ms/step - loss: 29159337984.0000 - val_loss: 29806886912.0000\n",
      "Epoch 69/100\n",
      "92/92 [==============================] - 0s 5ms/step - loss: 28951011328.0000 - val_loss: 29851518976.0000\n",
      "Epoch 70/100\n",
      "92/92 [==============================] - 0s 5ms/step - loss: 29052776448.0000 - val_loss: 29645619200.0000\n",
      "Epoch 71/100\n",
      "92/92 [==============================] - 0s 5ms/step - loss: 29198587904.0000 - val_loss: 30034522112.0000\n",
      "Epoch 72/100\n",
      "92/92 [==============================] - 0s 5ms/step - loss: 28836040704.0000 - val_loss: 29708613632.0000\n",
      "Epoch 73/100\n",
      "92/92 [==============================] - 0s 5ms/step - loss: 29067257856.0000 - val_loss: 29435576320.0000\n",
      "Epoch 74/100\n",
      "92/92 [==============================] - 0s 5ms/step - loss: 28967507968.0000 - val_loss: 29813833728.0000\n",
      "Epoch 75/100\n",
      "92/92 [==============================] - 0s 5ms/step - loss: 28835233792.0000 - val_loss: 29575747584.0000\n",
      "Epoch 76/100\n",
      "92/92 [==============================] - 0s 5ms/step - loss: 28846282752.0000 - val_loss: 29452345344.0000\n",
      "Epoch 77/100\n",
      "92/92 [==============================] - 0s 5ms/step - loss: 28800798720.0000 - val_loss: 29297229824.0000\n",
      "Epoch 78/100\n",
      "92/92 [==============================] - 0s 5ms/step - loss: 28814123008.0000 - val_loss: 29381292032.0000\n",
      "Epoch 79/100\n",
      "92/92 [==============================] - 1s 6ms/step - loss: 29122392064.0000 - val_loss: 29447802880.0000\n",
      "Epoch 80/100\n",
      "92/92 [==============================] - 1s 7ms/step - loss: 28949751808.0000 - val_loss: 29202706432.0000\n",
      "Epoch 81/100\n",
      "92/92 [==============================] - 1s 8ms/step - loss: 28677007360.0000 - val_loss: 29893154816.0000\n",
      "Epoch 82/100\n",
      "92/92 [==============================] - 1s 8ms/step - loss: 28873951232.0000 - val_loss: 29263714304.0000\n",
      "Epoch 83/100\n",
      "92/92 [==============================] - 0s 5ms/step - loss: 28584769536.0000 - val_loss: 29256441856.0000\n",
      "Epoch 84/100\n",
      "92/92 [==============================] - 0s 5ms/step - loss: 28569573376.0000 - val_loss: 29232568320.0000\n",
      "Epoch 85/100\n",
      "92/92 [==============================] - 0s 5ms/step - loss: 28592171008.0000 - val_loss: 29262411776.0000\n",
      "Epoch 86/100\n",
      "92/92 [==============================] - 0s 5ms/step - loss: 28731217920.0000 - val_loss: 29159645184.0000\n",
      "Epoch 87/100\n",
      "92/92 [==============================] - 0s 5ms/step - loss: 28327364608.0000 - val_loss: 29205182464.0000\n",
      "Epoch 88/100\n",
      "92/92 [==============================] - 0s 5ms/step - loss: 28888156160.0000 - val_loss: 29617620992.0000\n",
      "Epoch 89/100\n",
      "92/92 [==============================] - 0s 5ms/step - loss: 28651739136.0000 - val_loss: 29667887104.0000\n",
      "Epoch 90/100\n",
      "92/92 [==============================] - 0s 5ms/step - loss: 28446377984.0000 - val_loss: 29215422464.0000\n",
      "Epoch 91/100\n",
      "92/92 [==============================] - 0s 5ms/step - loss: 28328908800.0000 - val_loss: 29664831488.0000\n",
      "Epoch 92/100\n",
      "92/92 [==============================] - 0s 5ms/step - loss: 28442286080.0000 - val_loss: 29125017600.0000\n",
      "Epoch 93/100\n",
      "92/92 [==============================] - 0s 5ms/step - loss: 28318554112.0000 - val_loss: 29218373632.0000\n",
      "Epoch 94/100\n",
      "92/92 [==============================] - 0s 5ms/step - loss: 28456650752.0000 - val_loss: 29026775040.0000\n",
      "Epoch 95/100\n",
      "92/92 [==============================] - 0s 5ms/step - loss: 28271228928.0000 - val_loss: 29181112320.0000\n",
      "Epoch 96/100\n",
      "92/92 [==============================] - 0s 5ms/step - loss: 28271560704.0000 - val_loss: 29128370176.0000\n",
      "Epoch 97/100\n",
      "92/92 [==============================] - 0s 5ms/step - loss: 28301596672.0000 - val_loss: 28998801408.0000\n",
      "Epoch 98/100\n",
      "92/92 [==============================] - 0s 5ms/step - loss: 28290394112.0000 - val_loss: 29747175424.0000\n",
      "Epoch 99/100\n",
      "92/92 [==============================] - 0s 5ms/step - loss: 28443435008.0000 - val_loss: 29517541376.0000\n",
      "Epoch 100/100\n",
      "92/92 [==============================] - 0s 5ms/step - loss: 28324769792.0000 - val_loss: 29011140608.0000\n"
     ]
    }
   ],
   "source": [
    "history=model.fit(x=x_train,y=y_train.values,validation_data=(x_test,y_test.values),batch_size=128,epochs=100)"
   ]
  },
  {
   "cell_type": "markdown",
   "metadata": {
    "id": "510GfYQjXwYm"
   },
   "source": [
    "**4.Evaluating the model**"
   ]
  },
  {
   "cell_type": "code",
   "execution_count": 67,
   "metadata": {
    "colab": {
     "base_uri": "https://localhost:8080/"
    },
    "id": "PYrlqy_RXos-",
    "outputId": "f0cec29e-0572-4a23-b6c9-a3c2a584ed25"
   },
   "outputs": [
    {
     "name": "stdout",
     "output_type": "stream",
     "text": [
      "92/92 [==============================] - 0s 2ms/step\n",
      "R2 score: 0.7909839152840406\n"
     ]
    }
   ],
   "source": [
    "y_predicted = model.predict(x_test)\n",
    "print('R2 score:',r2_score(y_test,y_predicted))"
   ]
  },
  {
   "cell_type": "code",
   "execution_count": 68,
   "metadata": {
    "colab": {
     "base_uri": "https://localhost:8080/",
     "height": 472
    },
    "id": "0Puk3pvcYEsg",
    "outputId": "ef32c817-477a-4395-c82b-120fcfc782c8"
   },
   "outputs": [
    {
     "data": {
      "image/png": "[encoded data removed]",
      "text/plain": [
       "<Figure size 640x480 with 1 Axes>"
      ]
     },
     "metadata": {},
     "output_type": "display_data"
    }
   ],
   "source": [
    "y_test_values = y_test.values\n",
    "y_predicted_values = y_predicted.reshape(len(y_predicted))\n",
    "\n",
    "plt.scatter(y_test_values,y_predicted_values)\n",
    "plt.plot(y_test_values,y_test_values,'r')\n",
    "plt.title('Model Prediction')\n",
    "plt.xlabel('Y test')\n",
    "plt.ylabel('Model Prediction')\n",
    "plt.show()"
   ]
  },
  {
   "cell_type": "code",
   "execution_count": 70,
   "metadata": {
    "colab": {
     "base_uri": "https://localhost:8080/"
    },
    "id": "ZZC5qLU8YO_y",
    "outputId": "b5ec766f-4627-49da-ac48-fc5cfbbe6d7b"
   },
   "outputs": [
    {
     "name": "stdout",
     "output_type": "stream",
     "text": [
      "1/1 [==============================] - 0s 27ms/step\n",
      "Predicted Price:  1162731.6\n",
      "Actual Price:  1160000\n"
     ]
    }
   ],
   "source": [
    "pred=model.predict(x_test[1:2])\n",
    "print(\"Predicted Price: \",pred[0][0])\n",
    "print(\"Actual Price: \",y_test_values[1])"
   ]
  }
 ],
 "metadata": {
  "accelerator": "GPU",
  "colab": {
   "gpuType": "T4",
   "provenance": []
  },
  "gpuClass": "standard",
  "kernelspec": {
   "display_name": "Python 3 (ipykernel)",
   "language": "python",
   "name": "python3"
  },
  "language_info": {
   "codemirror_mode": {
    "name": "ipython",
    "version": 3
   },
   "file_extension": ".py",
   "mimetype": "text/x-python",
   "name": "python",
   "nbconvert_exporter": "python",
   "pygments_lexer": "ipython3",
   "version": "3.9.13"
  }
 },
 "nbformat": 4,
 "nbformat_minor": 1
}
